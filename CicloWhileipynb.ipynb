{
  "nbformat": 4,
  "nbformat_minor": 0,
  "metadata": {
    "colab": {
      "provenance": [],
      "authorship_tag": "ABX9TyOu44N7WtdRHuEtbZ3NK377",
      "include_colab_link": true
    },
    "kernelspec": {
      "name": "python3",
      "display_name": "Python 3"
    },
    "language_info": {
      "name": "python"
    }
  },
  "cells": [
    {
      "cell_type": "markdown",
      "metadata": {
        "id": "view-in-github",
        "colab_type": "text"
      },
      "source": [
        "<a href=\"https://colab.research.google.com/github/fabinoski/Curso-Python-Google-Colab/blob/master/CicloWhileipynb.ipynb\" target=\"_parent\"><img src=\"https://colab.research.google.com/assets/colab-badge.svg\" alt=\"Open In Colab\"/></a>"
      ]
    },
    {
      "cell_type": "code",
      "execution_count": null,
      "metadata": {
        "colab": {
          "base_uri": "https://localhost:8080/"
        },
        "id": "0133rbysukBq",
        "outputId": "7033562c-50bf-4f56-993a-cc20bc76fd79"
      },
      "outputs": [
        {
          "output_type": "stream",
          "name": "stdout",
          "text": [
            "1\n",
            "2\n",
            "3\n",
            "4\n",
            "5\n",
            "6\n",
            "7\n",
            "8\n",
            "9\n",
            "10\n"
          ]
        }
      ],
      "source": [
        "#Ejemplo ciclo while\n",
        "numero = 1\n",
        "\n",
        "while numero <= 10:\n",
        "  print(numero)\n",
        "  numero += 1\n"
      ]
    },
    {
      "cell_type": "code",
      "source": [
        "opcion = int(input(\"Digite su opcion:\\n\"))\n",
        "while opcion != 5:\n",
        "  opcion = int(input(\"Digite su opcion:\\n\"))"
      ],
      "metadata": {
        "colab": {
          "base_uri": "https://localhost:8080/"
        },
        "id": "obahIbkXu2K8",
        "outputId": "6cfc6e10-2952-40a3-e962-8e097b13b7c3"
      },
      "execution_count": null,
      "outputs": [
        {
          "name": "stdout",
          "output_type": "stream",
          "text": [
            "Digite su opcion:\n",
            "3\n",
            "Digite su opcion:\n",
            "8\n",
            "Digite su opcion:\n",
            "9\n",
            "Digite su opcion:\n",
            "7\n",
            "Digite su opcion:\n",
            "6\n",
            "Digite su opcion:\n",
            "7\n",
            "Digite su opcion:\n",
            "5\n"
          ]
        }
      ]
    },
    {
      "cell_type": "code",
      "source": [
        "#Tabla de multiplicar\n",
        "TABLA = 7\n",
        "contador = 0\n",
        "while contador <= 10:\n",
        "  #producto = TABLA * contador\n",
        "  print(f'{TABLA} x {contador} = {TABLA * contador}')\n",
        "  contador += 1\n"
      ],
      "metadata": {
        "id": "tzqfmxktw5NF",
        "colab": {
          "base_uri": "https://localhost:8080/"
        },
        "outputId": "6cc0ce46-5008-481d-fcb7-143b9f46d174"
      },
      "execution_count": null,
      "outputs": [
        {
          "output_type": "stream",
          "name": "stdout",
          "text": [
            "7 x 0 = 0\n",
            "7 x 1 = 7\n",
            "7 x 2 = 14\n",
            "7 x 3 = 21\n",
            "7 x 4 = 28\n",
            "7 x 5 = 35\n",
            "7 x 6 = 42\n",
            "7 x 7 = 49\n",
            "7 x 8 = 56\n",
            "7 x 9 = 63\n",
            "7 x 10 = 70\n"
          ]
        }
      ]
    },
    {
      "cell_type": "code",
      "source": [
        "#Adivinar numero por el Usuario\n",
        "import random\n",
        "numero = random.randint (1 , 20)\n",
        "print (f'{numero} \\n')\n",
        "print('Bienvenidos! Puede adivinar un numero del 1 al 20')\n",
        "usuario = int(input('Por favor ingrese su numero: \\n'))\n",
        "while numero != usuario:\n",
        "  print('\\nNumero equivocado. Su opcion es:')\n",
        "  if numero > usuario:\n",
        "    print('Menor\\n')\n",
        "  else:\n",
        "    print('Mayor\\n')\n",
        "  print('Intente de nuevo!')\n",
        "  usuario = int(input('Por favor ingrese su numero:\\n'))\n",
        "if numero == usuario:\n",
        "  print(f'\\nExcelente. Ha adivinado. El numero era {numero}')\n"
      ],
      "metadata": {
        "colab": {
          "base_uri": "https://localhost:8080/"
        },
        "id": "-kLSuk8WX3bI",
        "outputId": "6f2347e7-a832-4eab-e8e1-a271013fd868"
      },
      "execution_count": null,
      "outputs": [
        {
          "output_type": "stream",
          "name": "stdout",
          "text": [
            "9 \n",
            "\n",
            "Bienvenidos! Puede adivinar un numero del 1 al 20\n",
            "Por favor ingrese su numero: \n",
            "8\n",
            "\n",
            "Numero equivocado. Su opcion es:\n",
            "Menor\n",
            "\n",
            "Intente de nuevo!\n",
            "Por favor ingrese su numero:\n",
            "9\n",
            "\n",
            "Excelente. Ha adivinado. El numero era 9\n"
          ]
        }
      ]
    },
    {
      "cell_type": "code",
      "source": [
        "#Solicitar clave y nombre Usuario\n",
        "print ('Bienvenidos. Por favor Ingrese sus datos:\\n')\n",
        "usuario = 'Juan88'\n",
        "clave = 'azucar17'\n",
        "intentos = 3\n",
        "while True:\n",
        "  usuario_i = input('Usuario:\\n')\n",
        "  while usuario_i != usuario:\n",
        "    print('\\nUsuario incorrecto. Intente de nuevo.\\n')\n",
        "    usuario_i = input('\\nUsuario:\\n')\n",
        "  clave_i = input('\\nIngrese Clave:\\n')\n",
        "  if clave_i == clave:\n",
        "    print('Bienvenido')\n",
        "  else:\n",
        "    while intentos > 0:\n",
        "      print(f'Clave incorrecta. Le quedan {intentos} intentos\\n')\n",
        "      clave_i = input('Ingrese clave:\\n')\n",
        "      intentos -= 1\n",
        "    else:\n",
        "      print('Maximos intentos permitidos. Esta bloquado\\n')\n",
        "    break\n",
        "  break\n"
      ],
      "metadata": {
        "colab": {
          "base_uri": "https://localhost:8080/"
        },
        "id": "y7ZadG_7ZYcr",
        "outputId": "0e505900-3bc3-4200-9b67-6f03de443435"
      },
      "execution_count": null,
      "outputs": [
        {
          "output_type": "stream",
          "name": "stdout",
          "text": [
            "Bienvenidos. Por favor Ingrese sus datos:\n",
            "\n",
            "Usuario:\n",
            "fvb\n",
            "\n",
            "Usuario incorrecto. Intente de nuevo.\n",
            "\n",
            "\n",
            "Usuario:\n",
            "Juan88\n",
            "\n",
            "Ingrese Clave:\n",
            "123\n",
            "Clave incorrecta. Le quedan 3 intentos\n",
            "\n",
            "Ingrese clave:\n",
            "888\n",
            "Clave incorrecta. Le quedan 2 intentos\n",
            "\n",
            "Ingrese clave:\n",
            "azucar17\n",
            "Clave incorrecta. Le quedan 1 intentos\n",
            "\n",
            "Ingrese clave:\n",
            "azucar17\n",
            "Maximos intentos permitidos. Esta bloquado\n",
            "\n"
          ]
        }
      ]
    },
    {
      "cell_type": "code",
      "source": [
        "alien = {'color': 'green', 'points': 5, 'planet': 'venus'}\n",
        "print(f\"The alien's color is {alien['planet']}.\")\n",
        "alien['x_position'] = 0\n",
        "alien['house'] = 'board'\n",
        "print(alien)"
      ],
      "metadata": {
        "id": "wHs8iLT6icUY",
        "colab": {
          "base_uri": "https://localhost:8080/"
        },
        "outputId": "dec60e21-8629-4ef3-c3f9-00d70979287a"
      },
      "execution_count": null,
      "outputs": [
        {
          "output_type": "stream",
          "name": "stdout",
          "text": [
            "The alien's color is venus.\n",
            "{'color': 'green', 'points': 5, 'planet': 'venus', 'x_position': 0, 'house': 'board'}\n"
          ]
        }
      ]
    },
    {
      "cell_type": "code",
      "source": [
        "fav_numbers = {'eric': 7, 'ever': 4, 'erin': 47}\n",
        "for name, number in fav_numbers.items():\n",
        " print(f\"{name} loves {number}.\")"
      ],
      "metadata": {
        "colab": {
          "base_uri": "https://localhost:8080/"
        },
        "id": "-CYjkpqnFGsG",
        "outputId": "fe701b47-a55d-49d2-ebed-643e6e8b9eea"
      },
      "execution_count": null,
      "outputs": [
        {
          "output_type": "stream",
          "name": "stdout",
          "text": [
            "eric loves 7.\n",
            "ever loves 4.\n",
            "erin loves 47.\n"
          ]
        }
      ]
    },
    {
      "cell_type": "code",
      "source": [
        "pi = input(\"What's the value of pi? \")\n",
        "pi = float(pi)"
      ],
      "metadata": {
        "id": "6AXG8NgKGz0N",
        "outputId": "c02b896c-9ba8-490e-881e-496b634089a4",
        "colab": {
          "base_uri": "https://localhost:8080/"
        }
      },
      "execution_count": null,
      "outputs": [
        {
          "name": "stdout",
          "output_type": "stream",
          "text": [
            "What's the value of pi? 3.14\n"
          ]
        }
      ]
    },
    {
      "cell_type": "code",
      "source": [
        "msg = ''\n",
        "while msg != 'quit':\n",
        " msg = input(\"What's your message? \")\n",
        " if msg != 'quit':\n",
        "  print(msg)"
      ],
      "metadata": {
        "id": "1E9x1h80G0xh",
        "colab": {
          "base_uri": "https://localhost:8080/"
        },
        "outputId": "2d56af74-e5da-4dfd-82b0-5ecd1d012fc6"
      },
      "execution_count": null,
      "outputs": [
        {
          "name": "stdout",
          "output_type": "stream",
          "text": [
            "What's your message? Hola\n",
            "Hola\n",
            "What's your message? Hola\n",
            "Hola\n",
            "What's your message? Que\n",
            "Que\n",
            "What's your message? que\n",
            "que\n",
            "What's your message? QUIT\n",
            "QUIT\n",
            "What's your message? quit\n"
          ]
        }
      ]
    },
    {
      "cell_type": "code",
      "source": [
        "def greet_user():\n",
        " \"\"\"Display a simple greeting.\"\"\"\n",
        " print(\"Hello!\")\n",
        "greet_user()\n",
        "print(greet_user)"
      ],
      "metadata": {
        "colab": {
          "base_uri": "https://localhost:8080/"
        },
        "id": "zpJ1WZRjXpJm",
        "outputId": "f7d05ca3-6682-45e7-cdbb-6666731fa839"
      },
      "execution_count": null,
      "outputs": [
        {
          "output_type": "stream",
          "name": "stdout",
          "text": [
            "Hello!\n",
            "<function greet_user at 0x792986e98a60>\n"
          ]
        }
      ]
    },
    {
      "cell_type": "code",
      "source": [
        "def greet_user(username):\n",
        " \"\"\"Display a personalized greeting.\"\"\"\n",
        " print(f\"Hello, {username}!\")\n",
        "greet_user('santi')"
      ],
      "metadata": {
        "colab": {
          "base_uri": "https://localhost:8080/"
        },
        "id": "SNsmLX34YKQR",
        "outputId": "9cb15531-4275-4001-d709-cb8dde9a594e"
      },
      "execution_count": null,
      "outputs": [
        {
          "output_type": "stream",
          "name": "stdout",
          "text": [
            "Hello, santi!\n"
          ]
        }
      ]
    },
    {
      "cell_type": "code",
      "source": [
        "def make_pizza(topping='pineapple'):\n",
        " \"\"\"Make a single-topping pizza.\"\"\"\n",
        " print(f\"Have a {topping} pizza!\")\n",
        "make_pizza()\n",
        "make_pizza('mushroom')"
      ],
      "metadata": {
        "colab": {
          "base_uri": "https://localhost:8080/"
        },
        "id": "rzINCMD2YbH_",
        "outputId": "63ed779e-18d6-4c8f-cef9-9d7839772dc8"
      },
      "execution_count": null,
      "outputs": [
        {
          "output_type": "stream",
          "name": "stdout",
          "text": [
            "Have a pineapple pizza!\n",
            "Have a mushroom pizza!\n"
          ]
        }
      ]
    },
    {
      "cell_type": "code",
      "source": [
        "import matplotlib.pyplot as plt\n",
        "x_values = list(range(20))\n",
        "squares = [x**2 for x in x_values]\n",
        "cubes = [x**3 for x in x_values]\n",
        "fig, axs = plt.subplots(2, 1, sharex=True)\n",
        "axs[0].scatter(x_values, squares)\n",
        "axs[0].set_title('Squares')\n",
        "axs[1].scatter(x_values, cubes, c='red')\n",
        "axs[1].set_title('Cubes')\n",
        "plt.show()"
      ],
      "metadata": {
        "colab": {
          "base_uri": "https://localhost:8080/",
          "height": 504
        },
        "id": "H62AXoajYq1Q",
        "outputId": "b394a5b9-3712-4ac8-c9f1-7654bcb7770e"
      },
      "execution_count": null,
      "outputs": [
        {
          "output_type": "display_data",
          "data": {
            "text/plain": [
              "<Figure size 800x550 with 2 Axes>"
            ],
            "image/png": "[encoded data removed]"
          },
          "metadata": {}
        }
      ]
    },
    {
      "cell_type": "code",
      "source": [
        "import matplotlib.pyplot as plt\n",
        "x_values = list(range(11))\n",
        "squares = [x**2 for x in x_values]\n",
        "cubes = [x**3 for x in x_values]\n",
        "plt.style.use('seaborn-v0_8')\n",
        "fig, axs = plt.subplots(1, 2, sharey=True)\n",
        "axs[0].scatter(x_values, squares)\n",
        "axs[0].set_title('Squares')\n",
        "axs[1].scatter(x_values, cubes, c='red')\n",
        "axs[1].set_title('Cubes')\n",
        "plt.show()"
      ],
      "metadata": {
        "colab": {
          "base_uri": "https://localhost:8080/",
          "height": 504
        },
        "id": "5GLMdCKia7A-",
        "outputId": "1bc7e5a9-19a0-4bea-873a-687b06f91237"
      },
      "execution_count": null,
      "outputs": [
        {
          "output_type": "display_data",
          "data": {
            "text/plain": [
              "<Figure size 800x550 with 2 Axes>"
            ],
            "image/png": "[encoded data removed]"
          },
          "metadata": {}
        }
      ]
    },
    {
      "cell_type": "code",
      "source": [
        "list(range(0,21,3))"
      ],
      "metadata": {
        "id": "et2J3uocbC_j",
        "colab": {
          "base_uri": "https://localhost:8080/"
        },
        "outputId": "9b9bc4bb-d9a2-4066-99c7-04f588a8cd80"
      },
      "execution_count": null,
      "outputs": [
        {
          "output_type": "execute_result",
          "data": {
            "text/plain": [
              "[0, 3, 6, 9, 12, 15, 18]"
            ]
          },
          "metadata": {},
          "execution_count": 2
        }
      ]
    },
    {
      "cell_type": "code",
      "source": [
        "pais = 'venezuela'\n",
        "\n",
        "for caracter in pais:\n",
        "  print(caracter)"
      ],
      "metadata": {
        "colab": {
          "base_uri": "https://localhost:8080/"
        },
        "id": "khcKe6clpJJK",
        "outputId": "4a584c33-66ee-4c70-b1e8-4249b7fda30e"
      },
      "execution_count": null,
      "outputs": [
        {
          "output_type": "stream",
          "name": "stdout",
          "text": [
            "v\n",
            "e\n",
            "n\n",
            "e\n",
            "z\n",
            "u\n",
            "e\n",
            "l\n",
            "a\n"
          ]
        }
      ]
    },
    {
      "cell_type": "code",
      "source": [
        "temp_c = (15, 28, 55, 65, 98)\n",
        "for temperatura in temp_c:\n",
        "  temp_f = (temperatura*9/5) + 32\n",
        "  print(temp_f)"
      ],
      "metadata": {
        "colab": {
          "base_uri": "https://localhost:8080/"
        },
        "id": "4SeSkoDUq_RQ",
        "outputId": "29de3632-3d8c-4a77-a336-04678edd948a"
      },
      "execution_count": null,
      "outputs": [
        {
          "output_type": "stream",
          "name": "stdout",
          "text": [
            "59.0\n",
            "82.4\n",
            "131.0\n",
            "149.0\n",
            "208.4\n"
          ]
        }
      ]
    },
    {
      "cell_type": "code",
      "source": [
        "numeros = [2, 12, -15, 8, 74, -96, 15, -7, 10, -6]\n",
        "\n",
        "for j in numeros:\n",
        "  if j > 0:\n",
        "    print('El numero', j, 'es positivo.')\n",
        "  elif j <0:\n",
        "    print('El numero {} es negativo.'.format(j))\n",
        "  else:\n",
        "    continue\n"
      ],
      "metadata": {
        "colab": {
          "base_uri": "https://localhost:8080/"
        },
        "id": "xDk-XwAbrHV-",
        "outputId": "d7d637ef-c840-4773-a0f3-bab350823ca0"
      },
      "execution_count": null,
      "outputs": [
        {
          "output_type": "stream",
          "name": "stdout",
          "text": [
            "El numero 2 es positivo.\n",
            "El numero 12 es positivo.\n",
            "El numero -15 es negativo.\n",
            "El numero 8 es positivo.\n",
            "El numero 74 es positivo.\n",
            "El numero -96 es negativo.\n",
            "El numero 15 es positivo.\n",
            "El numero -7 es negativo.\n",
            "El numero 10 es positivo.\n",
            "El numero -6 es negativo.\n"
          ]
        }
      ]
    },
    {
      "cell_type": "code",
      "source": [],
      "metadata": {
        "id": "GTy_goUOvzeB"
      },
      "execution_count": null,
      "outputs": []
    }
  ]
}